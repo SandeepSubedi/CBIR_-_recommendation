{
 "cells": [
  {
   "cell_type": "code",
   "execution_count": 23,
   "metadata": {
    "execution": {
     "iopub.execute_input": "2022-11-05T04:42:48.093080Z",
     "iopub.status.busy": "2022-11-05T04:42:48.092848Z",
     "iopub.status.idle": "2022-11-05T04:42:48.110064Z",
     "shell.execute_reply": "2022-11-05T04:42:48.109484Z"
    }
   },
   "outputs": [
    {
     "name": "stdout",
     "output_type": "stream",
     "text": [
      "\u001b[34m\u001b[1mdetect: \u001b[0mweights=['/home/sandeep/Desktop/major/yolo/yolov5/best.pt'], source=/home/sandeep/Desktop/black.jpg, data=data/coco128.yaml, imgsz=[640, 640], conf_thres=0.25, iou_thres=0.45, max_det=1000, device=, view_img=False, save_txt=False, save_conf=False, save_crop=False, nosave=False, classes=None, agnostic_nms=False, augment=False, visualize=False, update=False, project=runs/detect, name=exp, exist_ok=False, line_thickness=3, hide_labels=False, hide_conf=False, half=False, dnn=False, vid_stride=1\n",
      "YOLOv5 🚀 v6.2-217-ga625f29 Python-3.10.6 torch-1.13.0+cu117 CPU\n",
      "\n",
      "Fusing layers... \n",
      "Model summary: 157 layers, 7039792 parameters, 0 gradients\n",
      "image 1/1 /home/sandeep/Desktop/black.jpg: 512x640 1 Sports, 70.7ms\n",
      "Speed: 0.4ms pre-process, 70.7ms inference, 0.8ms NMS per image at shape (1, 3, 640, 640)\n",
      "Results saved to \u001b[1mruns/detect/exp247\u001b[0m\n",
      "Sports\n",
      "\u001b[34m\u001b[1mdetect: \u001b[0mweights=['/home/sandeep/Desktop/major/yolo/yolov5/best_brand.pt'], source=/home/sandeep/Desktop/black.jpg, data=data/coco128.yaml, imgsz=[640, 640], conf_thres=0.25, iou_thres=0.45, max_det=1000, device=, view_img=False, save_txt=False, save_conf=False, save_crop=False, nosave=False, classes=None, agnostic_nms=False, augment=False, visualize=False, update=False, project=runs/detect, name=exp, exist_ok=False, line_thickness=3, hide_labels=False, hide_conf=False, half=False, dnn=False, vid_stride=1\n",
      "YOLOv5 🚀 v6.2-217-ga625f29 Python-3.10.6 torch-1.13.0+cu117 CPU\n",
      "\n",
      "Fusing layers... \n",
      "Model summary: 157 layers, 7047883 parameters, 0 gradients\n",
      "image 1/1 /home/sandeep/Desktop/black.jpg: 512x640 1 Adidas, 83.9ms\n",
      "Speed: 0.8ms pre-process, 83.9ms inference, 0.8ms NMS per image at shape (1, 3, 640, 640)\n",
      "Results saved to \u001b[1mruns/detect/exp248\u001b[0m\n",
      "Adidas\n",
      "\u001b[34m\u001b[1mdetect: \u001b[0mweights=['/home/sandeep/Desktop/major/yolo/yolov5/best_color.pt'], source=/home/sandeep/Desktop/black.jpg, data=data/coco128.yaml, imgsz=[640, 640], conf_thres=0.25, iou_thres=0.45, max_det=1000, device=, view_img=False, save_txt=False, save_conf=False, save_crop=False, nosave=False, classes=None, agnostic_nms=False, augment=False, visualize=False, update=False, project=runs/detect, name=exp, exist_ok=False, line_thickness=3, hide_labels=False, hide_conf=False, half=False, dnn=False, vid_stride=1\n",
      "YOLOv5 🚀 v6.2-217-ga625f29 Python-3.10.6 torch-1.13.0+cu117 CPU\n",
      "\n",
      "Fusing layers... \n",
      "Model summary: 157 layers, 7039792 parameters, 0 gradients\n",
      "image 1/1 /home/sandeep/Desktop/black.jpg: 512x640 1 Black, 97.2ms\n",
      "Speed: 0.5ms pre-process, 97.2ms inference, 0.9ms NMS per image at shape (1, 3, 640, 640)\n",
      "Results saved to \u001b[1mruns/detect/exp249\u001b[0m\n",
      "Black\n"
     ]
    }
   ],
   "source": [
    "from threading import Thread\n",
    "import time\n",
    "import os\n",
    "import shutil \n",
    "\n",
    "\n",
    "!python detect.py --source /home/sandeep/Desktop/black.jpg --weights /home/sandeep/Desktop/major/yolo/yolov5/best.pt \n",
    "!python detect.py --source /home/sandeep/Desktop/black.jpg --weights /home/sandeep/Desktop/major/yolo/yolov5/best_brand.pt\n",
    "!python detect.py --source /home/sandeep/Desktop/black.jpg --weights /home/sandeep/Desktop/major/yolo/yolov5/best_color.pt \n",
    "\n",
    "    "
   ]
  }
 ],
 "metadata": {
  "kernelspec": {
   "display_name": "Python 3.10.6 ('yoloenv': venv)",
   "language": "python",
   "name": "python3"
  },
  "language_info": {
   "codemirror_mode": {
    "name": "ipython",
    "version": 3
   },
   "file_extension": ".py",
   "mimetype": "text/x-python",
   "name": "python",
   "nbconvert_exporter": "python",
   "pygments_lexer": "ipython3",
   "version": "3.10.6"
  },
  "vscode": {
   "interpreter": {
    "hash": "f6fc9b71d01ce4abf9161dd6b032f4917cb6e26b664df5945f3b5a924af98580"
   }
  }
 },
 "nbformat": 4,
 "nbformat_minor": 2
}
