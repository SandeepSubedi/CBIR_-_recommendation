{
 "cells": [
  {
   "cell_type": "code",
   "execution_count": 6,
   "metadata": {
    "execution": {
     "iopub.execute_input": "2022-11-05T04:42:48.093080Z",
     "iopub.status.busy": "2022-11-05T04:42:48.092848Z",
     "iopub.status.idle": "2022-11-05T04:42:48.110064Z",
     "shell.execute_reply": "2022-11-05T04:42:48.109484Z"
    }
   },
   "outputs": [
    {
     "name": "stderr",
     "output_type": "stream",
     "text": [
      "\u001b[34m\u001b[1mdetect_1: \u001b[0mweights=/home/sandeep/Desktop/major/CBIR/detect/yolo/category_best.pt, source=/home/sandeep/Desktop/major/CBIR/media/photos/products/black_Qs8bmdB.jpg, data=data/coco128.yaml, imgsz=[640, 640], conf_thres=0.25, iou_thres=0.45, max_det=1000, device=, view_img=False, save_txt=False, save_conf=False, save_crop=False, nosave=False, classes=None, agnostic_nms=False, augment=False, visualize=False, update=False, project=runs/detect, name=exp, exist_ok=False, line_thickness=3, hide_labels=False, hide_conf=False, half=False, dnn=False, vid_stride=1\n",
      "YOLOv5 🚀 2022-11-5 Python-3.10.6 torch-1.13.0+cu117 CPU\n",
      "\n",
      "Fusing layers... \n",
      "Model summary: 157 layers, 7039792 parameters, 0 gradients\n"
     ]
    },
    {
     "ename": "FileNotFoundError",
     "evalue": "/home/sandeep/Desktop/major/CBIR/media/photos/products/black_Qs8bmdB.jpg does not exist",
     "output_type": "error",
     "traceback": [
      "\u001b[0;31m---------------------------------------------------------------------------\u001b[0m",
      "\u001b[0;31mFileNotFoundError\u001b[0m                         Traceback (most recent call last)",
      "File \u001b[0;32m~/Desktop/major/CBIR/detect/yolo/detect_1.py:265\u001b[0m\n\u001b[1;32m    263\u001b[0m \u001b[39mif\u001b[39;00m \u001b[39m__name__\u001b[39m \u001b[39m==\u001b[39m \u001b[39m\"\u001b[39m\u001b[39m__main__\u001b[39m\u001b[39m\"\u001b[39m:\n\u001b[1;32m    264\u001b[0m     opt \u001b[39m=\u001b[39m parse_opt()\n\u001b[0;32m--> 265\u001b[0m     main(opt)\n",
      "File \u001b[0;32m~/Desktop/major/CBIR/detect/yolo/detect_1.py:257\u001b[0m, in \u001b[0;36mmain\u001b[0;34m(opt)\u001b[0m\n\u001b[1;32m    255\u001b[0m \u001b[39mdef\u001b[39;00m \u001b[39mmain\u001b[39m(opt):\n\u001b[1;32m    256\u001b[0m     check_requirements(exclude\u001b[39m=\u001b[39m(\u001b[39m'\u001b[39m\u001b[39mtensorboard\u001b[39m\u001b[39m'\u001b[39m, \u001b[39m'\u001b[39m\u001b[39mthop\u001b[39m\u001b[39m'\u001b[39m))\n\u001b[0;32m--> 257\u001b[0m     type_name\u001b[39m=\u001b[39mrun(\u001b[39m*\u001b[39;49m\u001b[39m*\u001b[39;49m\u001b[39mvars\u001b[39;49m(opt))\n\u001b[1;32m    258\u001b[0m     type_name\u001b[39m=\u001b[39mtype_name\u001b[39m.\u001b[39msplit(\u001b[39m\"\u001b[39m\u001b[39m,\u001b[39m\u001b[39m\"\u001b[39m)\n\u001b[1;32m    259\u001b[0m     \u001b[39mprint\u001b[39m(type_name[\u001b[39m0\u001b[39m])\n",
      "File \u001b[0;32m~/Desktop/major/CBIR/cbir_env/lib/python3.10/site-packages/torch/autograd/grad_mode.py:27\u001b[0m, in \u001b[0;36m_DecoratorContextManager.__call__.<locals>.decorate_context\u001b[0;34m(*args, **kwargs)\u001b[0m\n\u001b[1;32m     24\u001b[0m \u001b[39m@functools\u001b[39m\u001b[39m.\u001b[39mwraps(func)\n\u001b[1;32m     25\u001b[0m \u001b[39mdef\u001b[39;00m \u001b[39mdecorate_context\u001b[39m(\u001b[39m*\u001b[39margs, \u001b[39m*\u001b[39m\u001b[39m*\u001b[39mkwargs):\n\u001b[1;32m     26\u001b[0m     \u001b[39mwith\u001b[39;00m \u001b[39mself\u001b[39m\u001b[39m.\u001b[39mclone():\n\u001b[0;32m---> 27\u001b[0m         \u001b[39mreturn\u001b[39;00m func(\u001b[39m*\u001b[39;49margs, \u001b[39m*\u001b[39;49m\u001b[39m*\u001b[39;49mkwargs)\n",
      "File \u001b[0;32m~/Desktop/major/CBIR/detect/yolo/detect_1.py:108\u001b[0m, in \u001b[0;36mrun\u001b[0;34m(weights, source, data, imgsz, conf_thres, iou_thres, max_det, device, view_img, save_txt, save_conf, save_crop, nosave, classes, agnostic_nms, augment, visualize, update, project, name, exist_ok, line_thickness, hide_labels, hide_conf, half, dnn, vid_stride)\u001b[0m\n\u001b[1;32m    106\u001b[0m     dataset \u001b[39m=\u001b[39m LoadScreenshots(source, img_size\u001b[39m=\u001b[39mimgsz, stride\u001b[39m=\u001b[39mstride, auto\u001b[39m=\u001b[39mpt)\n\u001b[1;32m    107\u001b[0m \u001b[39melse\u001b[39;00m:\n\u001b[0;32m--> 108\u001b[0m     dataset \u001b[39m=\u001b[39m LoadImages(source, img_size\u001b[39m=\u001b[39;49mimgsz, stride\u001b[39m=\u001b[39;49mstride, auto\u001b[39m=\u001b[39;49mpt, vid_stride\u001b[39m=\u001b[39;49mvid_stride)\n\u001b[1;32m    109\u001b[0m vid_path, vid_writer \u001b[39m=\u001b[39m [\u001b[39mNone\u001b[39;00m] \u001b[39m*\u001b[39m bs, [\u001b[39mNone\u001b[39;00m] \u001b[39m*\u001b[39m bs\n\u001b[1;32m    111\u001b[0m \u001b[39m# Run inference\u001b[39;00m\n",
      "File \u001b[0;32m~/Desktop/major/CBIR/detect/yolo/utils/dataloaders.py:251\u001b[0m, in \u001b[0;36mLoadImages.__init__\u001b[0;34m(self, path, img_size, stride, auto, transforms, vid_stride)\u001b[0m\n\u001b[1;32m    249\u001b[0m         files\u001b[39m.\u001b[39mappend(p)  \u001b[39m# files\u001b[39;00m\n\u001b[1;32m    250\u001b[0m     \u001b[39melse\u001b[39;00m:\n\u001b[0;32m--> 251\u001b[0m         \u001b[39mraise\u001b[39;00m \u001b[39mFileNotFoundError\u001b[39;00m(\u001b[39mf\u001b[39m\u001b[39m'\u001b[39m\u001b[39m{\u001b[39;00mp\u001b[39m}\u001b[39;00m\u001b[39m does not exist\u001b[39m\u001b[39m'\u001b[39m)\n\u001b[1;32m    253\u001b[0m images \u001b[39m=\u001b[39m [x \u001b[39mfor\u001b[39;00m x \u001b[39min\u001b[39;00m files \u001b[39mif\u001b[39;00m x\u001b[39m.\u001b[39msplit(\u001b[39m'\u001b[39m\u001b[39m.\u001b[39m\u001b[39m'\u001b[39m)[\u001b[39m-\u001b[39m\u001b[39m1\u001b[39m]\u001b[39m.\u001b[39mlower() \u001b[39min\u001b[39;00m IMG_FORMATS]\n\u001b[1;32m    254\u001b[0m videos \u001b[39m=\u001b[39m [x \u001b[39mfor\u001b[39;00m x \u001b[39min\u001b[39;00m files \u001b[39mif\u001b[39;00m x\u001b[39m.\u001b[39msplit(\u001b[39m'\u001b[39m\u001b[39m.\u001b[39m\u001b[39m'\u001b[39m)[\u001b[39m-\u001b[39m\u001b[39m1\u001b[39m]\u001b[39m.\u001b[39mlower() \u001b[39min\u001b[39;00m VID_FORMATS]\n",
      "\u001b[0;31mFileNotFoundError\u001b[0m: /home/sandeep/Desktop/major/CBIR/media/photos/products/black_Qs8bmdB.jpg does not exist"
     ]
    }
   ],
   "source": [
    "from threading import Thread\n",
    "import time\n",
    "import os\n",
    "import shutil \n",
    "%run /home/sandeep/Desktop/major/CBIR/detect/yolo/detect_1.py  --source /home/sandeep/Desktop/major/CBIR/media/photos/products/jutta.jpg --weights /home/sandeep/Desktop/major/CBIR/detect/yolo/Brand_best.pt\n",
    "%run /home/sandeep/Desktop/major/CBIR/detect/yolo/detect_1.py  --source /home/sandeep/Desktop/major/CBIR/media/photos/products/jutta.jpg --weights /home/sandeep/Desktop/major/CBIR/detect/yolo/color_best.pt\n",
    "%run  /home/sandeep/Desktop/major/CBIR/detect/yolo/detect_1.py --source /home/sandeep/Desktop/major/CBIR/media/photos/products/jutta.jpg --weights /home/sandeep/Desktop/major/CBIR/detect/yolo/category_best.pt\n",
    "#!python detect_1.py --source /home/sandeep/Desktop/major/CBIR/media/photos/products/abc.jpg --weights /home/sandeep/Desktop/major/CBIR/detect/yolo/color_best.pt\n",
    "    "
   ]
  }
 ],
 "metadata": {
  "kernelspec": {
   "display_name": "Python 3.10.6 ('cbir_env': venv)",
   "language": "python",
   "name": "python3"
  },
  "language_info": {
   "codemirror_mode": {
    "name": "ipython",
    "version": 3
   },
   "file_extension": ".py",
   "mimetype": "text/x-python",
   "name": "python",
   "nbconvert_exporter": "python",
   "pygments_lexer": "ipython3",
   "version": "3.10.6"
  },
  "vscode": {
   "interpreter": {
    "hash": "1e64215dcb384c1fa036fcca1950ce7bbf6d33e59ba8c6327e574ae624d698ba"
   }
  }
 },
 "nbformat": 4,
 "nbformat_minor": 2
}
